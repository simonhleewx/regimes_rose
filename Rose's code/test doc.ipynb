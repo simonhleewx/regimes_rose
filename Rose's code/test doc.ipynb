{
 "cells": [
  {
   "cell_type": "markdown",
   "id": "3468682c-97bc-46af-9abf-a13f636e08e6",
   "metadata": {},
   "source": [
    "# <center> <span style=\"color:red\">**Accessing and Viewing the Data**</span> </center>"
   ]
  },
  {
   "cell_type": "markdown",
   "id": "6b0b0496-c30e-4047-b3dc-922f64542b79",
   "metadata": {},
   "source": [
    "## Importing the Copernicus Marine toolbox :\n",
    "<hr style=\"border: solid 2px blue; margin-top: 1.5% \">"
   ]
  },
  {
   "cell_type": "code",
   "execution_count": null,
   "id": "abc9a3c8-fdee-4be1-94ff-80107d403d82",
   "metadata": {},
   "outputs": [],
   "source": [
    "pip install jupyter copernicusmarine ipykernel"
   ]
  },
  {
   "cell_type": "code",
   "execution_count": null,
   "id": "61f04932-f2fb-424c-acc3-3ae634a4b9bc",
   "metadata": {},
   "outputs": [],
   "source": [
    "import copernicusmarine"
   ]
  },
  {
   "cell_type": "code",
   "execution_count": null,
   "id": "5524c2c7-2974-4d60-8ae1-45e182d9eb0e",
   "metadata": {},
   "outputs": [],
   "source": [
    "pip show copernicusmarine"
   ]
  },
  {
   "cell_type": "markdown",
   "id": "91885752-7c80-4ff4-8e84-89612f968dd4",
   "metadata": {},
   "source": [
    "## Accessing Dataset stored in GWS\n",
    "<hr style=\"border: solid 2px blue; margin-top: 1.5% \">"
   ]
  },
  {
   "cell_type": "code",
   "execution_count": null,
   "id": "583e3325-4464-4674-a34d-63aa3048efa6",
   "metadata": {},
   "outputs": [],
   "source": [
    "# Lists files and folders in the group workspace directory (exclamation mark runs it as shell command)\n",
    "!ls /gws"
   ]
  },
  {
   "cell_type": "code",
   "execution_count": null,
   "id": "e4f97e5b-06c4-40f9-87fa-f77bfc135d37",
   "metadata": {},
   "outputs": [],
   "source": [
    "# View name of data file in directory location\n",
    "!ls /gws/nopw/j04/co2clim/datasets/GLORYS/GLOBAL_MULTIYEAR_PHY_001_030/"
   ]
  },
  {
   "cell_type": "code",
   "execution_count": null,
   "id": "bcd77a90-948c-4047-891e-e66b4006484a",
   "metadata": {},
   "outputs": [],
   "source": [
    "# View name of data file in directory location\n",
    "!ls /gws/nopw/j04/co2clim/datasets/GLORYS/GLOBAL_MULTIYEAR_PHY_001_030/Subset_NorthAtlantic/"
   ]
  },
  {
   "cell_type": "code",
   "execution_count": null,
   "id": "330fc3d0-c16e-4e2c-ae19-cc066aa9d4fd",
   "metadata": {},
   "outputs": [],
   "source": [
    "# View name of data file in directory location\n",
    "!ls /gws/nopw/j04/co2clim/datasets/GLORYS/GLOBAL_MULTIYEAR_PHY_001_030/Subset_NorthAtlantic_regrid1x1/"
   ]
  },
  {
   "cell_type": "code",
   "execution_count": null,
   "id": "06837522-d5f1-4314-bb51-d14ce4dfbf9f",
   "metadata": {},
   "outputs": [],
   "source": [
    "# View name of data file in directory location\n",
    "!ls /gws/nopw/j04/co2clim/datasets/GLORYS/GLOBAL_MULTIYEAR_PHY_001_030/Subset_NorthAtlantic_regrid1x1/cmems_mod_glo_phy_my_0.083deg_P1D-m_mlotst_100.00W-20.00E_0.00N-80.00N_1993-01-01-2021-06-30.zarr"
   ]
  },
  {
   "cell_type": "markdown",
   "id": "3be2a812-5c7b-4d48-8ecc-4bfb3dcac84e",
   "metadata": {},
   "source": [
    "### **Data title**\n",
    "*mlotsts*→ mixed layer depth  \n",
    "*0.083deg* → spatial resolution (about 1/12°)  \n",
    "*100.00W-20.00E and 0.00N-80.00N* → longitude/latitude box (North Atlantic)  \n",
    "*1993-01-01-2021-06-30*→ time span of the dataset"
   ]
  },
  {
   "cell_type": "markdown",
   "id": "6b5ed580-66a4-42a5-a7c3-e46f91b0a6b1",
   "metadata": {},
   "source": [
    "## Manipulating the data\n",
    "<hr style=\"border: solid 2px blue; margin-top: 1.5% \">"
   ]
  },
  {
   "cell_type": "code",
   "execution_count": null,
   "id": "0897495d-8fd3-400b-a323-2aa1956f36c2",
   "metadata": {},
   "outputs": [],
   "source": [
    "import xarray as xr\n",
    "\n",
    "# Open with xarray\n",
    "ds = xr.open_zarr('/gws/nopw/j04/co2clim/datasets/GLORYS/GLOBAL_MULTIYEAR_PHY_001_030/Subset_NorthAtlantic_regrid1x1/cmems_mod_glo_phy_my_0.083deg_P1D-m_mlotst_100.00W-20.00E_0.00N-80.00N_1993-01-01-2021-06-30.zarr')\n",
    "\n",
    "# Print a summary of your dataset\n",
    "print(ds) "
   ]
  },
  {
   "cell_type": "code",
   "execution_count": null,
   "id": "85ab8fd2-79e3-4efb-894c-1c4cf107ea1c",
   "metadata": {},
   "outputs": [],
   "source": [
    "# Shows a summary of variables\n",
    "ds.data_vars "
   ]
  },
  {
   "cell_type": "markdown",
   "id": "9beea55b-212d-445d-8d53-9972123a1e4a",
   "metadata": {},
   "source": [
    "### **Breaking down the data summary**\n",
    "\n",
    "#### Dimensions\n",
    "latitude: 81 points → 0° to 80°N  \n",
    "longitude: 121 points → 100°W to 20°E  \n",
    "time: 10,408 points → daily values from 1993‑01‑01 to 2021‑06‑30  \n",
    "So each data variable is a 3D array: [time, latitude, longitude].  \n",
    "\n",
    "#### Coordinates (axes of the dataset)\n",
    "latitude: evenly spaced from 0°N → 80°N  \n",
    "longitude: evenly spaced from 100°W → 20°E  \n",
    "time: daily steps for ~28.5 years (10,408 days)  \n",
    "*These are the actual coordinate values defining where and when the data applies.*  \n",
    "\n",
    "#### Data variable\n",
    "mlotst = mixed layer thickness (temperature-based)  \n",
    "Dimensions: (time, latitude, longitude) → 3D grid  \n",
    "Stored as float32 (32-bit floating-point numbers)  \n",
    "Total size if fully loaded: 408 MB  \n",
    "\n",
    "#### Storage & performance\n",
    "Backed by a Dask array with chunks: (31, 81, 90)  \n",
    "→ Each chunk contains 31 timesteps × 81 latitudes × 90 longitudes  \n",
    "*Dask allows lazy computation, so the dataset isn’t fully loaded into memory at once.*"
   ]
  },
  {
   "cell_type": "markdown",
   "id": "d5ee7d7c-eb9b-49b7-8838-8ba237997a4b",
   "metadata": {},
   "source": [
    "## Analysing the data\n",
    "<hr style=\"border: solid 2px blue; margin-top: 1.5% \">"
   ]
  },
  {
   "cell_type": "code",
   "execution_count": null,
   "id": "2c34ac49-3158-4ef7-bac1-fbb671ec3826",
   "metadata": {},
   "outputs": [],
   "source": [
    "# Take the mean of the dataset over the time dimension\n",
    "print(ds.mean(dim='time'))"
   ]
  },
  {
   "cell_type": "code",
   "execution_count": null,
   "id": "e38e41dd-0099-4fe2-af65-269a8fee517f",
   "metadata": {},
   "outputs": [],
   "source": [
    "# annual averaged MLD for each year\n",
    "print(ds.groupby('time.year').mean(dim='time'))"
   ]
  }
 ],
 "metadata": {
  "kernelspec": {
   "display_name": "env",
   "language": "python",
   "name": "env"
  },
  "language_info": {
   "codemirror_mode": {
    "name": "ipython",
    "version": 3
   },
   "file_extension": ".py",
   "mimetype": "text/x-python",
   "name": "python",
   "nbconvert_exporter": "python",
   "pygments_lexer": "ipython3",
   "version": "3.11.9"
  }
 },
 "nbformat": 4,
 "nbformat_minor": 5
}
