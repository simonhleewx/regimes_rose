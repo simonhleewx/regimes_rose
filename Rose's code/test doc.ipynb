{
 "cells": [
  {
   "cell_type": "markdown",
   "id": "3468682c-97bc-46af-9abf-a13f636e08e6",
   "metadata": {},
   "source": [
    "# <center> <span style=\"color:red\">**Accessing and Viewing the Data**</span> </center>"
   ]
  },
  {
   "cell_type": "markdown",
   "id": "6b0b0496-c30e-4047-b3dc-922f64542b79",
   "metadata": {},
   "source": [
    "## Importing the Copernicus Marine toolbox :\n",
    "<hr style=\"border: solid 2px blue; margin-top: 1.5% \">"
   ]
  },
  {
   "cell_type": "code",
   "execution_count": null,
   "id": "abc9a3c8-fdee-4be1-94ff-80107d403d82",
   "metadata": {},
   "outputs": [],
   "source": [
    "pip install jupyter copernicusmarine ipykernel"
   ]
  },
  {
   "cell_type": "code",
   "execution_count": null,
   "id": "61f04932-f2fb-424c-acc3-3ae634a4b9bc",
   "metadata": {},
   "outputs": [],
   "source": [
    "import copernicusmarine"
   ]
  },
  {
   "cell_type": "code",
   "execution_count": null,
   "id": "5524c2c7-2974-4d60-8ae1-45e182d9eb0e",
   "metadata": {},
   "outputs": [],
   "source": [
    "pip show copernicusmarine"
   ]
  },
  {
   "cell_type": "markdown",
   "id": "91885752-7c80-4ff4-8e84-89612f968dd4",
   "metadata": {},
   "source": [
    "## Accessing Dataset stored in GWS\n",
    "<hr style=\"border: solid 2px blue; margin-top: 1.5% \">"
   ]
  },
  {
   "cell_type": "code",
   "execution_count": null,
   "id": "583e3325-4464-4674-a34d-63aa3048efa6",
   "metadata": {},
   "outputs": [],
   "source": [
    "# Lists files and folders in the group workspace directory (exclamation mark runs it as shell command)\n",
    "!ls /gws"
   ]
  },
  {
   "cell_type": "code",
   "execution_count": null,
   "id": "bcd77a90-948c-4047-891e-e66b4006484a",
   "metadata": {},
   "outputs": [],
   "source": [
    "# View name of data file in directory location\n",
    "!ls /gws/nopw/j04/co2clim/datasets/GLORYS/GLOBAL_MULTIYEAR_PHY_001_030/Subset_NorthAtlantic/"
   ]
  },
  {
   "cell_type": "markdown",
   "id": "3be2a812-5c7b-4d48-8ecc-4bfb3dcac84e",
   "metadata": {},
   "source": [
    "### **Data title**\n",
    "*mlotsts*→ mixed layer depth  \n",
    "*0.083deg* → spatial resolution (about 1/12°)  \n",
    "*100.00W-20.00E and 0.00N-80.00N* → longitude/latitude box (North Atlantic)  \n",
    "*1993-01-01-2021-06-30*→ time span of the dataset"
   ]
  },
  {
   "cell_type": "markdown",
   "id": "6b5ed580-66a4-42a5-a7c3-e46f91b0a6b1",
   "metadata": {},
   "source": [
    "## Manipulating the data\n",
    "<hr style=\"border: solid 2px blue; margin-top: 1.5% \">"
   ]
  },
  {
   "cell_type": "code",
   "execution_count": null,
   "id": "0897495d-8fd3-400b-a323-2aa1956f36c2",
   "metadata": {},
   "outputs": [],
   "source": [
    "import xarray as xr\n",
    "\n",
    "# Open with xarray\n",
    "ds = xr.open_zarr('/gws/nopw/j04/co2clim/datasets/GLORYS/GLOBAL_MULTIYEAR_PHY_001_030/Subset_NorthAtlantic/cmems_mod_glo_phy_my_0.083deg_P1D-m_mlotst_100.00W-20.00E_0.00N-80.00N_1993-01-01-2021-06-30.zarr')\n",
    "\n",
    "# Print a summary of your dataset\n",
    "print(ds) "
   ]
  },
  {
   "cell_type": "code",
   "execution_count": 5,
   "id": "85ab8fd2-79e3-4efb-894c-1c4cf107ea1c",
   "metadata": {},
   "outputs": [
    {
     "data": {
      "text/plain": [
       "Data variables:\n",
       "    mlotst   (time, latitude, longitude) float64 115GB dask.array<chunksize=(2081, 16, 16), meta=np.ndarray>"
      ]
     },
     "execution_count": 5,
     "metadata": {},
     "output_type": "execute_result"
    }
   ],
   "source": [
    "# Shows a summary of variables\n",
    "ds.data_vars "
   ]
  },
  {
   "cell_type": "markdown",
   "id": "9beea55b-212d-445d-8d53-9972123a1e4a",
   "metadata": {},
   "source": [
    "### **Breaking down the data summary**\n",
    "\n",
    "##### **Dimensions**\n",
    "latitude: 961 points → covers 0° to 80°N (with 0.083° resolution).  \n",
    "longitude: 1441 points → covers 100°W to 20°E.  \n",
    "time: 10,408 points → daily values from 1993-01-01 to 2021-06-30.  \n",
    "*So each data variable is essentially a 3D array: [time, latitude, longitude].*\n",
    "\n",
    "##### **Coordinates (axes of the dataset)** \n",
    "latitude: evenly spaced from 0°N → 80°N.  \n",
    "longitude: evenly spaced from 100°W → 20°E.  \n",
    "time: daily steps for ~28.5 years (10,408 days).  \n",
    "*These are the actual coordinate values.* \n",
    "\n",
    "##### **Data variables (the actual scientific data inside)** \n",
    "mlotst = mixed layer thickness    \n",
    "Dimensions: (time, latitude, longitude) → 3D grid  \n",
    "float64: stored as 64-bit floating-point numbers  \n",
    "\n",
    "Backed by a dask array with chunks:  \n",
    "(2081, 16, 16) means data is stored in small blocks of 2081 timesteps × 16 latitudes × 16 longitudes.  \n",
    "*This chunking is what allows parallel / lazy computation without loading the entire dataset.*"
   ]
  },
  {
   "cell_type": "markdown",
   "id": "d5ee7d7c-eb9b-49b7-8838-8ba237997a4b",
   "metadata": {},
   "source": [
    "## Analysing the data\n",
    "<hr style=\"border: solid 2px blue; margin-top: 1.5% \">"
   ]
  },
  {
   "cell_type": "code",
   "execution_count": null,
   "id": "e9e4158f-71f2-40c4-abf1-cbb124804ae0",
   "metadata": {},
   "outputs": [],
   "source": []
  },
  {
   "cell_type": "code",
   "execution_count": 6,
   "id": "2c34ac49-3158-4ef7-bac1-fbb671ec3826",
   "metadata": {},
   "outputs": [
    {
     "name": "stdout",
     "output_type": "stream",
     "text": [
      "<xarray.Dataset> Size: 11MB\n",
      "Dimensions:    (latitude: 961, longitude: 1441)\n",
      "Coordinates:\n",
      "  * latitude   (latitude) float32 4kB 0.0 0.08333 0.1667 ... 79.83 79.92 80.0\n",
      "  * longitude  (longitude) float32 6kB -100.0 -99.92 -99.83 ... 19.83 19.92 20.0\n",
      "Data variables:\n",
      "    mlotst     (latitude, longitude) float64 11MB dask.array<chunksize=(16, 16), meta=np.ndarray>\n"
     ]
    }
   ],
   "source": [
    "# Take the mean of the dataset over the time dimention\n",
    "print(ds.mean(dim='time'))"
   ]
  },
  {
   "cell_type": "code",
   "execution_count": 7,
   "id": "e38e41dd-0099-4fe2-af65-269a8fee517f",
   "metadata": {},
   "outputs": [
    {
     "name": "stdout",
     "output_type": "stream",
     "text": [
      "<xarray.Dataset> Size: 321MB\n",
      "Dimensions:    (year: 29, latitude: 961, longitude: 1441)\n",
      "Coordinates:\n",
      "  * latitude   (latitude) float32 4kB 0.0 0.08333 0.1667 ... 79.83 79.92 80.0\n",
      "  * longitude  (longitude) float32 6kB -100.0 -99.92 -99.83 ... 19.83 19.92 20.0\n",
      "  * year       (year) int64 232B 1993 1994 1995 1996 ... 2018 2019 2020 2021\n",
      "Data variables:\n",
      "    mlotst     (year, latitude, longitude) float64 321MB dask.array<chunksize=(1, 16, 16), meta=np.ndarray>\n",
      "Attributes:\n",
      "    Conventions:               CF-1.4\n",
      "    comment:                   CMEMS product\n",
      "    copernicusmarine_version:  2.1.1\n",
      "    history:                   2023/06/01 16:20:05 MERCATOR OCEAN Netcdf crea...\n",
      "    institution:               MERCATOR OCEAN\n",
      "    references:                http://www.mercator-ocean.fr\n",
      "    source:                    MERCATOR GLORYS12V1\n",
      "    title:                     daily mean fields from Global Ocean Physics An...\n"
     ]
    }
   ],
   "source": [
    "# annual averaged MLD for each year\n",
    "print(ds.groupby('time.year').mean(dim='time'))"
   ]
  },
  {
   "cell_type": "code",
   "execution_count": null,
   "id": "d1d3c232-809e-40b7-8e11-4dfe21eab072",
   "metadata": {},
   "outputs": [],
   "source": []
  }
 ],
 "metadata": {
  "kernelspec": {
   "display_name": "diss_rose_environment",
   "language": "python",
   "name": "diss_rose_environment"
  },
  "language_info": {
   "codemirror_mode": {
    "name": "ipython",
    "version": 3
   },
   "file_extension": ".py",
   "mimetype": "text/x-python",
   "name": "python",
   "nbconvert_exporter": "python",
   "pygments_lexer": "ipython3",
   "version": "3.11.9"
  }
 },
 "nbformat": 4,
 "nbformat_minor": 5
}
